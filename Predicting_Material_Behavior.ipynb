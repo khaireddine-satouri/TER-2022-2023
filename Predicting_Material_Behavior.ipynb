{
  "nbformat": 4,
  "nbformat_minor": 0,
  "metadata": {
    "colab": {
      "provenance": []
    },
    "kernelspec": {
      "name": "python3",
      "display_name": "Python 3"
    },
    "language_info": {
      "name": "python"
    },
    "gpuClass": "standard"
  },
  "cells": [
    {
      "cell_type": "markdown",
      "source": [
        "# Part 1: Data preprocessing\n"
      ],
      "metadata": {
        "id": "1p-5Rqns0emm"
      }
    },
    {
      "cell_type": "markdown",
      "source": [
        "1. Importing the libraries\n",
        "2. Importing the dataset\n",
        "3. Dealing with missing data\n",
        "4. Encoding categorical variables\n",
        "5. Splitting the dataset into train and test set\n",
        "6. Feature scaling"
      ],
      "metadata": {
        "id": "jNjeBbTv0hqO"
      }
    },
    {
      "cell_type": "code",
      "source": [
        "import numpy as np\n",
        "import pandas as pd\n",
        "import matplotlib.pyplot as plt\n",
        "import seaborn as sns"
      ],
      "metadata": {
        "id": "ZkqsALBz0gfL"
      },
      "execution_count": null,
      "outputs": []
    },
    {
      "cell_type": "code",
      "source": [
        "dataset = pd.read_excel(\"Data_Sheet.xlsx\",header=0)"
      ],
      "metadata": {
        "id": "rlV_nzM009mv"
      },
      "execution_count": null,
      "outputs": []
    },
    {
      "cell_type": "code",
      "source": [
        "dataset.head()"
      ],
      "metadata": {
        "colab": {
          "base_uri": "https://localhost:8080/",
          "height": 206
        },
        "id": "LarTSgaZ1Lpj",
        "outputId": "d1efe980-27a4-4cf8-bc92-5ff487d3907c"
      },
      "execution_count": null,
      "outputs": [
        {
          "output_type": "execute_result",
          "data": {
            "text/plain": [
              "   Grain  Phi1 (°)  Psi (°)  Phi2 (°)    h (nm)     P (mN)    x (µm)    d (nm)\n",
              "0     10    105.81     94.4    192.38  0.000000   0.000000 -2.390996  64.32688\n",
              "1     10    105.81     94.4    192.38  1.817280   4.001145 -2.381237  64.46653\n",
              "2     10    105.81     94.4    192.38  2.879298   9.905321 -2.371478  64.85121\n",
              "3     10    105.81     94.4    192.38  4.122832  16.590043 -2.361719  65.14177\n",
              "4     10    105.81     94.4    192.38  5.172039  22.889292 -2.351960  65.31030"
            ],
            "text/html": [
              "\n",
              "  <div id=\"df-937a51d4-1714-4ac7-8af9-60573eb323de\">\n",
              "    <div class=\"colab-df-container\">\n",
              "      <div>\n",
              "<style scoped>\n",
              "    .dataframe tbody tr th:only-of-type {\n",
              "        vertical-align: middle;\n",
              "    }\n",
              "\n",
              "    .dataframe tbody tr th {\n",
              "        vertical-align: top;\n",
              "    }\n",
              "\n",
              "    .dataframe thead th {\n",
              "        text-align: right;\n",
              "    }\n",
              "</style>\n",
              "<table border=\"1\" class=\"dataframe\">\n",
              "  <thead>\n",
              "    <tr style=\"text-align: right;\">\n",
              "      <th></th>\n",
              "      <th>Grain</th>\n",
              "      <th>Phi1 (°)</th>\n",
              "      <th>Psi (°)</th>\n",
              "      <th>Phi2 (°)</th>\n",
              "      <th>h (nm)</th>\n",
              "      <th>P (mN)</th>\n",
              "      <th>x (µm)</th>\n",
              "      <th>d (nm)</th>\n",
              "    </tr>\n",
              "  </thead>\n",
              "  <tbody>\n",
              "    <tr>\n",
              "      <th>0</th>\n",
              "      <td>10</td>\n",
              "      <td>105.81</td>\n",
              "      <td>94.4</td>\n",
              "      <td>192.38</td>\n",
              "      <td>0.000000</td>\n",
              "      <td>0.000000</td>\n",
              "      <td>-2.390996</td>\n",
              "      <td>64.32688</td>\n",
              "    </tr>\n",
              "    <tr>\n",
              "      <th>1</th>\n",
              "      <td>10</td>\n",
              "      <td>105.81</td>\n",
              "      <td>94.4</td>\n",
              "      <td>192.38</td>\n",
              "      <td>1.817280</td>\n",
              "      <td>4.001145</td>\n",
              "      <td>-2.381237</td>\n",
              "      <td>64.46653</td>\n",
              "    </tr>\n",
              "    <tr>\n",
              "      <th>2</th>\n",
              "      <td>10</td>\n",
              "      <td>105.81</td>\n",
              "      <td>94.4</td>\n",
              "      <td>192.38</td>\n",
              "      <td>2.879298</td>\n",
              "      <td>9.905321</td>\n",
              "      <td>-2.371478</td>\n",
              "      <td>64.85121</td>\n",
              "    </tr>\n",
              "    <tr>\n",
              "      <th>3</th>\n",
              "      <td>10</td>\n",
              "      <td>105.81</td>\n",
              "      <td>94.4</td>\n",
              "      <td>192.38</td>\n",
              "      <td>4.122832</td>\n",
              "      <td>16.590043</td>\n",
              "      <td>-2.361719</td>\n",
              "      <td>65.14177</td>\n",
              "    </tr>\n",
              "    <tr>\n",
              "      <th>4</th>\n",
              "      <td>10</td>\n",
              "      <td>105.81</td>\n",
              "      <td>94.4</td>\n",
              "      <td>192.38</td>\n",
              "      <td>5.172039</td>\n",
              "      <td>22.889292</td>\n",
              "      <td>-2.351960</td>\n",
              "      <td>65.31030</td>\n",
              "    </tr>\n",
              "  </tbody>\n",
              "</table>\n",
              "</div>\n",
              "      <button class=\"colab-df-convert\" onclick=\"convertToInteractive('df-937a51d4-1714-4ac7-8af9-60573eb323de')\"\n",
              "              title=\"Convert this dataframe to an interactive table.\"\n",
              "              style=\"display:none;\">\n",
              "        \n",
              "  <svg xmlns=\"http://www.w3.org/2000/svg\" height=\"24px\"viewBox=\"0 0 24 24\"\n",
              "       width=\"24px\">\n",
              "    <path d=\"M0 0h24v24H0V0z\" fill=\"none\"/>\n",
              "    <path d=\"M18.56 5.44l.94 2.06.94-2.06 2.06-.94-2.06-.94-.94-2.06-.94 2.06-2.06.94zm-11 1L8.5 8.5l.94-2.06 2.06-.94-2.06-.94L8.5 2.5l-.94 2.06-2.06.94zm10 10l.94 2.06.94-2.06 2.06-.94-2.06-.94-.94-2.06-.94 2.06-2.06.94z\"/><path d=\"M17.41 7.96l-1.37-1.37c-.4-.4-.92-.59-1.43-.59-.52 0-1.04.2-1.43.59L10.3 9.45l-7.72 7.72c-.78.78-.78 2.05 0 2.83L4 21.41c.39.39.9.59 1.41.59.51 0 1.02-.2 1.41-.59l7.78-7.78 2.81-2.81c.8-.78.8-2.07 0-2.86zM5.41 20L4 18.59l7.72-7.72 1.47 1.35L5.41 20z\"/>\n",
              "  </svg>\n",
              "      </button>\n",
              "      \n",
              "  <style>\n",
              "    .colab-df-container {\n",
              "      display:flex;\n",
              "      flex-wrap:wrap;\n",
              "      gap: 12px;\n",
              "    }\n",
              "\n",
              "    .colab-df-convert {\n",
              "      background-color: #E8F0FE;\n",
              "      border: none;\n",
              "      border-radius: 50%;\n",
              "      cursor: pointer;\n",
              "      display: none;\n",
              "      fill: #1967D2;\n",
              "      height: 32px;\n",
              "      padding: 0 0 0 0;\n",
              "      width: 32px;\n",
              "    }\n",
              "\n",
              "    .colab-df-convert:hover {\n",
              "      background-color: #E2EBFA;\n",
              "      box-shadow: 0px 1px 2px rgba(60, 64, 67, 0.3), 0px 1px 3px 1px rgba(60, 64, 67, 0.15);\n",
              "      fill: #174EA6;\n",
              "    }\n",
              "\n",
              "    [theme=dark] .colab-df-convert {\n",
              "      background-color: #3B4455;\n",
              "      fill: #D2E3FC;\n",
              "    }\n",
              "\n",
              "    [theme=dark] .colab-df-convert:hover {\n",
              "      background-color: #434B5C;\n",
              "      box-shadow: 0px 1px 3px 1px rgba(0, 0, 0, 0.15);\n",
              "      filter: drop-shadow(0px 1px 2px rgba(0, 0, 0, 0.3));\n",
              "      fill: #FFFFFF;\n",
              "    }\n",
              "  </style>\n",
              "\n",
              "      <script>\n",
              "        const buttonEl =\n",
              "          document.querySelector('#df-937a51d4-1714-4ac7-8af9-60573eb323de button.colab-df-convert');\n",
              "        buttonEl.style.display =\n",
              "          google.colab.kernel.accessAllowed ? 'block' : 'none';\n",
              "\n",
              "        async function convertToInteractive(key) {\n",
              "          const element = document.querySelector('#df-937a51d4-1714-4ac7-8af9-60573eb323de');\n",
              "          const dataTable =\n",
              "            await google.colab.kernel.invokeFunction('convertToInteractive',\n",
              "                                                     [key], {});\n",
              "          if (!dataTable) return;\n",
              "\n",
              "          const docLinkHtml = 'Like what you see? Visit the ' +\n",
              "            '<a target=\"_blank\" href=https://colab.research.google.com/notebooks/data_table.ipynb>data table notebook</a>'\n",
              "            + ' to learn more about interactive tables.';\n",
              "          element.innerHTML = '';\n",
              "          dataTable['output_type'] = 'display_data';\n",
              "          await google.colab.output.renderOutput(dataTable, element);\n",
              "          const docLink = document.createElement('div');\n",
              "          docLink.innerHTML = docLinkHtml;\n",
              "          element.appendChild(docLink);\n",
              "        }\n",
              "      </script>\n",
              "    </div>\n",
              "  </div>\n",
              "  "
            ]
          },
          "metadata": {},
          "execution_count": 26
        }
      ]
    },
    {
      "cell_type": "code",
      "source": [
        "dataset.shape"
      ],
      "metadata": {
        "colab": {
          "base_uri": "https://localhost:8080/"
        },
        "id": "S28HruQJ1bRy",
        "outputId": "dbc5658f-6c32-489c-e220-ff5d9a68df09"
      },
      "execution_count": null,
      "outputs": [
        {
          "output_type": "execute_result",
          "data": {
            "text/plain": [
              "(2977, 8)"
            ]
          },
          "metadata": {},
          "execution_count": 27
        }
      ]
    },
    {
      "cell_type": "markdown",
      "source": [
        "## Exploratory Data Analysis"
      ],
      "metadata": {
        "id": "TUduDgBp1md6"
      }
    },
    {
      "cell_type": "code",
      "source": [
        "# information about the dataset\n",
        "dataset.info()"
      ],
      "metadata": {
        "colab": {
          "base_uri": "https://localhost:8080/"
        },
        "id": "2V6CuKq51gWK",
        "outputId": "95e1b4a4-9292-41d6-917a-0b6e4287a4a5"
      },
      "execution_count": null,
      "outputs": [
        {
          "output_type": "stream",
          "name": "stdout",
          "text": [
            "<class 'pandas.core.frame.DataFrame'>\n",
            "RangeIndex: 2977 entries, 0 to 2976\n",
            "Data columns (total 8 columns):\n",
            " #   Column    Non-Null Count  Dtype  \n",
            "---  ------    --------------  -----  \n",
            " 0   Grain     2977 non-null   int64  \n",
            " 1   Phi1 (°)  2977 non-null   float64\n",
            " 2   Psi (°)   2977 non-null   float64\n",
            " 3   Phi2 (°)  2977 non-null   float64\n",
            " 4   h (nm)    2977 non-null   float64\n",
            " 5   P (mN)    2977 non-null   float64\n",
            " 6   x (µm)    2338 non-null   float64\n",
            " 7   d (nm)    2338 non-null   float64\n",
            "dtypes: float64(7), int64(1)\n",
            "memory usage: 186.2 KB\n"
          ]
        }
      ]
    },
    {
      "cell_type": "code",
      "source": [
        "# statistical summary\n",
        "dataset.describe()"
      ],
      "metadata": {
        "colab": {
          "base_uri": "https://localhost:8080/",
          "height": 300
        },
        "id": "6f5nCOx01s1p",
        "outputId": "c733769b-11ae-4d5a-c997-b70622f04b07"
      },
      "execution_count": null,
      "outputs": [
        {
          "output_type": "execute_result",
          "data": {
            "text/plain": [
              "             Grain     Phi1 (°)      Psi (°)     Phi2 (°)       h (nm)  \\\n",
              "count  2977.000000  2977.000000  2977.000000  2977.000000  2977.000000   \n",
              "mean     81.020826    53.489678   109.748697   211.630568   312.167081   \n",
              "std      83.750535    66.283225    24.997320    20.148508   260.235189   \n",
              "min      10.000000     0.040000    72.580000   184.560000     0.000000   \n",
              "25%      11.000000     0.040000    94.400000   192.380000   168.104039   \n",
              "50%      16.000000     3.890000   107.010000   214.740000   262.727229   \n",
              "75%     181.000000   105.810000   137.100000   233.020000   269.430656   \n",
              "max     185.000000   158.750000   137.100000   233.020000   968.271687   \n",
              "\n",
              "            P (mN)       x (µm)       d (nm)  \n",
              "count  2977.000000  2338.000000  2338.000000  \n",
              "mean    904.760728     0.026809   -24.811868  \n",
              "std    1056.664241     2.239194   147.344699  \n",
              "min      -1.955496    -6.856725  -907.625241  \n",
              "25%     305.819252    -1.233541   -44.955699  \n",
              "50%     600.426992    -0.056589    19.289107  \n",
              "75%     893.932969     1.123685    53.349778  \n",
              "max    4964.699145     7.823699   225.821300  "
            ],
            "text/html": [
              "\n",
              "  <div id=\"df-fddf3462-b3c0-4f50-bdbf-133ba365a1f9\">\n",
              "    <div class=\"colab-df-container\">\n",
              "      <div>\n",
              "<style scoped>\n",
              "    .dataframe tbody tr th:only-of-type {\n",
              "        vertical-align: middle;\n",
              "    }\n",
              "\n",
              "    .dataframe tbody tr th {\n",
              "        vertical-align: top;\n",
              "    }\n",
              "\n",
              "    .dataframe thead th {\n",
              "        text-align: right;\n",
              "    }\n",
              "</style>\n",
              "<table border=\"1\" class=\"dataframe\">\n",
              "  <thead>\n",
              "    <tr style=\"text-align: right;\">\n",
              "      <th></th>\n",
              "      <th>Grain</th>\n",
              "      <th>Phi1 (°)</th>\n",
              "      <th>Psi (°)</th>\n",
              "      <th>Phi2 (°)</th>\n",
              "      <th>h (nm)</th>\n",
              "      <th>P (mN)</th>\n",
              "      <th>x (µm)</th>\n",
              "      <th>d (nm)</th>\n",
              "    </tr>\n",
              "  </thead>\n",
              "  <tbody>\n",
              "    <tr>\n",
              "      <th>count</th>\n",
              "      <td>2977.000000</td>\n",
              "      <td>2977.000000</td>\n",
              "      <td>2977.000000</td>\n",
              "      <td>2977.000000</td>\n",
              "      <td>2977.000000</td>\n",
              "      <td>2977.000000</td>\n",
              "      <td>2338.000000</td>\n",
              "      <td>2338.000000</td>\n",
              "    </tr>\n",
              "    <tr>\n",
              "      <th>mean</th>\n",
              "      <td>81.020826</td>\n",
              "      <td>53.489678</td>\n",
              "      <td>109.748697</td>\n",
              "      <td>211.630568</td>\n",
              "      <td>312.167081</td>\n",
              "      <td>904.760728</td>\n",
              "      <td>0.026809</td>\n",
              "      <td>-24.811868</td>\n",
              "    </tr>\n",
              "    <tr>\n",
              "      <th>std</th>\n",
              "      <td>83.750535</td>\n",
              "      <td>66.283225</td>\n",
              "      <td>24.997320</td>\n",
              "      <td>20.148508</td>\n",
              "      <td>260.235189</td>\n",
              "      <td>1056.664241</td>\n",
              "      <td>2.239194</td>\n",
              "      <td>147.344699</td>\n",
              "    </tr>\n",
              "    <tr>\n",
              "      <th>min</th>\n",
              "      <td>10.000000</td>\n",
              "      <td>0.040000</td>\n",
              "      <td>72.580000</td>\n",
              "      <td>184.560000</td>\n",
              "      <td>0.000000</td>\n",
              "      <td>-1.955496</td>\n",
              "      <td>-6.856725</td>\n",
              "      <td>-907.625241</td>\n",
              "    </tr>\n",
              "    <tr>\n",
              "      <th>25%</th>\n",
              "      <td>11.000000</td>\n",
              "      <td>0.040000</td>\n",
              "      <td>94.400000</td>\n",
              "      <td>192.380000</td>\n",
              "      <td>168.104039</td>\n",
              "      <td>305.819252</td>\n",
              "      <td>-1.233541</td>\n",
              "      <td>-44.955699</td>\n",
              "    </tr>\n",
              "    <tr>\n",
              "      <th>50%</th>\n",
              "      <td>16.000000</td>\n",
              "      <td>3.890000</td>\n",
              "      <td>107.010000</td>\n",
              "      <td>214.740000</td>\n",
              "      <td>262.727229</td>\n",
              "      <td>600.426992</td>\n",
              "      <td>-0.056589</td>\n",
              "      <td>19.289107</td>\n",
              "    </tr>\n",
              "    <tr>\n",
              "      <th>75%</th>\n",
              "      <td>181.000000</td>\n",
              "      <td>105.810000</td>\n",
              "      <td>137.100000</td>\n",
              "      <td>233.020000</td>\n",
              "      <td>269.430656</td>\n",
              "      <td>893.932969</td>\n",
              "      <td>1.123685</td>\n",
              "      <td>53.349778</td>\n",
              "    </tr>\n",
              "    <tr>\n",
              "      <th>max</th>\n",
              "      <td>185.000000</td>\n",
              "      <td>158.750000</td>\n",
              "      <td>137.100000</td>\n",
              "      <td>233.020000</td>\n",
              "      <td>968.271687</td>\n",
              "      <td>4964.699145</td>\n",
              "      <td>7.823699</td>\n",
              "      <td>225.821300</td>\n",
              "    </tr>\n",
              "  </tbody>\n",
              "</table>\n",
              "</div>\n",
              "      <button class=\"colab-df-convert\" onclick=\"convertToInteractive('df-fddf3462-b3c0-4f50-bdbf-133ba365a1f9')\"\n",
              "              title=\"Convert this dataframe to an interactive table.\"\n",
              "              style=\"display:none;\">\n",
              "        \n",
              "  <svg xmlns=\"http://www.w3.org/2000/svg\" height=\"24px\"viewBox=\"0 0 24 24\"\n",
              "       width=\"24px\">\n",
              "    <path d=\"M0 0h24v24H0V0z\" fill=\"none\"/>\n",
              "    <path d=\"M18.56 5.44l.94 2.06.94-2.06 2.06-.94-2.06-.94-.94-2.06-.94 2.06-2.06.94zm-11 1L8.5 8.5l.94-2.06 2.06-.94-2.06-.94L8.5 2.5l-.94 2.06-2.06.94zm10 10l.94 2.06.94-2.06 2.06-.94-2.06-.94-.94-2.06-.94 2.06-2.06.94z\"/><path d=\"M17.41 7.96l-1.37-1.37c-.4-.4-.92-.59-1.43-.59-.52 0-1.04.2-1.43.59L10.3 9.45l-7.72 7.72c-.78.78-.78 2.05 0 2.83L4 21.41c.39.39.9.59 1.41.59.51 0 1.02-.2 1.41-.59l7.78-7.78 2.81-2.81c.8-.78.8-2.07 0-2.86zM5.41 20L4 18.59l7.72-7.72 1.47 1.35L5.41 20z\"/>\n",
              "  </svg>\n",
              "      </button>\n",
              "      \n",
              "  <style>\n",
              "    .colab-df-container {\n",
              "      display:flex;\n",
              "      flex-wrap:wrap;\n",
              "      gap: 12px;\n",
              "    }\n",
              "\n",
              "    .colab-df-convert {\n",
              "      background-color: #E8F0FE;\n",
              "      border: none;\n",
              "      border-radius: 50%;\n",
              "      cursor: pointer;\n",
              "      display: none;\n",
              "      fill: #1967D2;\n",
              "      height: 32px;\n",
              "      padding: 0 0 0 0;\n",
              "      width: 32px;\n",
              "    }\n",
              "\n",
              "    .colab-df-convert:hover {\n",
              "      background-color: #E2EBFA;\n",
              "      box-shadow: 0px 1px 2px rgba(60, 64, 67, 0.3), 0px 1px 3px 1px rgba(60, 64, 67, 0.15);\n",
              "      fill: #174EA6;\n",
              "    }\n",
              "\n",
              "    [theme=dark] .colab-df-convert {\n",
              "      background-color: #3B4455;\n",
              "      fill: #D2E3FC;\n",
              "    }\n",
              "\n",
              "    [theme=dark] .colab-df-convert:hover {\n",
              "      background-color: #434B5C;\n",
              "      box-shadow: 0px 1px 3px 1px rgba(0, 0, 0, 0.15);\n",
              "      filter: drop-shadow(0px 1px 2px rgba(0, 0, 0, 0.3));\n",
              "      fill: #FFFFFF;\n",
              "    }\n",
              "  </style>\n",
              "\n",
              "      <script>\n",
              "        const buttonEl =\n",
              "          document.querySelector('#df-fddf3462-b3c0-4f50-bdbf-133ba365a1f9 button.colab-df-convert');\n",
              "        buttonEl.style.display =\n",
              "          google.colab.kernel.accessAllowed ? 'block' : 'none';\n",
              "\n",
              "        async function convertToInteractive(key) {\n",
              "          const element = document.querySelector('#df-fddf3462-b3c0-4f50-bdbf-133ba365a1f9');\n",
              "          const dataTable =\n",
              "            await google.colab.kernel.invokeFunction('convertToInteractive',\n",
              "                                                     [key], {});\n",
              "          if (!dataTable) return;\n",
              "\n",
              "          const docLinkHtml = 'Like what you see? Visit the ' +\n",
              "            '<a target=\"_blank\" href=https://colab.research.google.com/notebooks/data_table.ipynb>data table notebook</a>'\n",
              "            + ' to learn more about interactive tables.';\n",
              "          element.innerHTML = '';\n",
              "          dataTable['output_type'] = 'display_data';\n",
              "          await google.colab.output.renderOutput(dataTable, element);\n",
              "          const docLink = document.createElement('div');\n",
              "          docLink.innerHTML = docLinkHtml;\n",
              "          element.appendChild(docLink);\n",
              "        }\n",
              "      </script>\n",
              "    </div>\n",
              "  </div>\n",
              "  "
            ]
          },
          "metadata": {},
          "execution_count": 29
        }
      ]
    },
    {
      "cell_type": "markdown",
      "source": [
        "## Dealing with the missing data"
      ],
      "metadata": {
        "id": "oeGnMtiy2pwu"
      }
    },
    {
      "cell_type": "code",
      "source": [
        "# check if there are any null values\n",
        "dataset.isnull().values.any()"
      ],
      "metadata": {
        "colab": {
          "base_uri": "https://localhost:8080/"
        },
        "id": "DXDXNQ9B17v2",
        "outputId": "0088dcd2-43f6-45b7-d2e1-33a7da432516"
      },
      "execution_count": null,
      "outputs": [
        {
          "output_type": "execute_result",
          "data": {
            "text/plain": [
              "True"
            ]
          },
          "metadata": {},
          "execution_count": 30
        }
      ]
    },
    {
      "cell_type": "code",
      "source": [
        "# check how many null values\n",
        "dataset.isnull().sum()"
      ],
      "metadata": {
        "colab": {
          "base_uri": "https://localhost:8080/"
        },
        "id": "nlVXTqRU2VVB",
        "outputId": "21a9ba30-3b2e-4c65-885e-f3baf35f5e6d"
      },
      "execution_count": null,
      "outputs": [
        {
          "output_type": "execute_result",
          "data": {
            "text/plain": [
              "Grain         0\n",
              "Phi1 (°)      0\n",
              "Psi (°)       0\n",
              "Phi2 (°)      0\n",
              "h (nm)        0\n",
              "P (mN)        0\n",
              "x (µm)      639\n",
              "d (nm)      639\n",
              "dtype: int64"
            ]
          },
          "metadata": {},
          "execution_count": 31
        }
      ]
    },
    {
      "cell_type": "code",
      "source": [
        "# drop columns that have missing values\n",
        "dataset=dataset.dropna()\n",
        "#Replace missing values with Mean\n",
        "#dataset[\"x (µm)\"].fillna(dataset[\"d (nm)\"].mean())\n",
        "#dataset[\"d (nm)\"].fillna(dataset[\"d (nm)\"].mean())"
      ],
      "metadata": {
        "id": "8xImeqOSjJQq"
      },
      "execution_count": null,
      "outputs": []
    },
    {
      "cell_type": "code",
      "source": [
        "# check how many null values\n",
        "dataset.isnull().sum()"
      ],
      "metadata": {
        "colab": {
          "base_uri": "https://localhost:8080/"
        },
        "id": "4jWKtadgm6Px",
        "outputId": "2c96996d-f902-4ac1-d7f3-d0d9216f0bbc"
      },
      "execution_count": null,
      "outputs": [
        {
          "output_type": "execute_result",
          "data": {
            "text/plain": [
              "Grain       0\n",
              "Phi1 (°)    0\n",
              "Psi (°)     0\n",
              "Phi2 (°)    0\n",
              "h (nm)      0\n",
              "P (mN)      0\n",
              "x (µm)      0\n",
              "d (nm)      0\n",
              "dtype: int64"
            ]
          },
          "metadata": {},
          "execution_count": 37
        }
      ]
    },
    {
      "cell_type": "markdown",
      "source": [
        "## Data visualisation \n"
      ],
      "metadata": {
        "id": "Vye8jQPcBoZX"
      }
    },
    {
      "cell_type": "code",
      "source": [
        "# Create Correlation Matrix\n",
        "corr = dataset.corr()\n",
        "# correlation matrix\n",
        "plt.figure(figsize=(16,9))\n",
        "sns.heatmap(corr, annot=True)"
      ],
      "metadata": {
        "colab": {
          "base_uri": "https://localhost:8080/",
          "height": 558
        },
        "id": "g2yzK5Gr2Yxi",
        "outputId": "d620ee62-6d19-42bb-ac3c-f59d1ea78eeb"
      },
      "execution_count": null,
      "outputs": [
        {
          "output_type": "execute_result",
          "data": {
            "text/plain": [
              "<AxesSubplot:>"
            ]
          },
          "metadata": {},
          "execution_count": 38
        },
        {
          "output_type": "display_data",
          "data": {
            "text/plain": [
              "<Figure size 1152x648 with 2 Axes>"
            ],
            "image/png": "[encoded data removed]"
          },
          "metadata": {
            "needs_background": "light"
          }
        }
      ]
    },
    {
      "cell_type": "code",
      "source": [
        "#sns.pairplot(dataset, kind=\"reg\")"
      ],
      "metadata": {
        "id": "nLolef5BDtjs"
      },
      "execution_count": null,
      "outputs": []
    },
    {
      "cell_type": "markdown",
      "source": [
        "## SVR and RFR without using learning curves and cross-validation"
      ],
      "metadata": {
        "id": "8u3ssGvoZbtU"
      }
    },
    {
      "cell_type": "code",
      "source": [
        "import numpy as np\n",
        "import pandas as pd\n",
        "from sklearn.model_selection import train_test_split\n",
        "from sklearn.ensemble import RandomForestRegressor\n",
        "from sklearn.svm import SVR\n",
        "from sklearn.metrics import r2_score\n",
        "\n",
        "\n",
        "\n",
        "# Split the data set into training and testing sets\n",
        "train_data, test_data, train_target, test_target = train_test_split(dataset.drop(\"Grain\", axis=1), dataset[\"Grain\"], test_size=0.25, random_state=666)\n",
        "\n",
        "# Split the training set into validation and training sets\n",
        "val_data, train_data, val_target, train_target = train_test_split(train_data, train_target, test_size=0.2, random_state=666)\n",
        "\n",
        "# Train the SVR model\n",
        "svr = SVR(kernel='linear', C=1, epsilon=0.1)\n",
        "svr.fit(train_data, train_target)\n",
        "\n",
        "# Make predictions using the SVR model\n",
        "svr_predictions = svr.predict(val_data)\n",
        "\n",
        "# Calculate the R2 score for the SVR model\n",
        "svr_r2_score = r2_score(val_target, svr_predictions)\n",
        "print(\"SVR R2 score:\", svr_r2_score)\n",
        "\n",
        "# Train the Random Forest Regression model\n",
        "rfr = RandomForestRegressor(n_estimators=100, random_state=666)\n",
        "rfr.fit(train_data, train_target)\n",
        "\n",
        "# Make predictions using the Random Forest Regression model\n",
        "rfr_predictions = rfr.predict(val_data)\n",
        "\n",
        "# Calculate the R2 score for the Random Forest Regression model\n",
        "rfr_r2_score = r2_score(val_target, rfr_predictions)\n",
        "print(\"Random Forest Regression R2 score:\", rfr_r2_score)"
      ],
      "metadata": {
        "colab": {
          "base_uri": "https://localhost:8080/"
        },
        "id": "3c03cYLzI-w6",
        "outputId": "2e1f41cc-df45-40c7-9984-ba1c70310f7e"
      },
      "execution_count": null,
      "outputs": [
        {
          "output_type": "stream",
          "name": "stdout",
          "text": [
            "SVR R2 score: 0.999987602768554\n",
            "Random Forest Regression R2 score: 1.0\n"
          ]
        }
      ]
    },
    {
      "cell_type": "markdown",
      "source": [
        "## training RFR model using learning curves and cross-validation"
      ],
      "metadata": {
        "id": "T7PP5Az5ZmWj"
      }
    },
    {
      "cell_type": "code",
      "source": [
        "import numpy as np\n",
        "import pandas as pd\n",
        "from sklearn.ensemble import RandomForestRegressor\n",
        "from sklearn.model_selection import train_test_split, learning_curve\n",
        "import matplotlib.pyplot as plt\n",
        "\n",
        "\n",
        "\n",
        "# Randomize the data and set a constant random state for reproducibility\n",
        "np.random.seed(666)\n",
        "dataset = dataset.sample(frac=1).reset_index(drop=True)\n",
        "\n",
        "# Split the data into training and testing sets\n",
        "X = dataset.drop(\"Grain\", axis=1)\n",
        "y = dataset[\"Grain\"]\n",
        "X_train, X_test, y_train, y_test = train_test_split(X, y, test_size=0.25)\n",
        "\n",
        "# Split the training set into training and validation sets\n",
        "X_train, X_val, y_train, y_val = train_test_split(X_train, y_train, test_size=0.25)\n",
        "\n",
        "# Train the Random Forest Regressor with default parameters\n",
        "rfr = RandomForestRegressor()\n",
        "rfr.fit(X_train, y_train)\n",
        "\n",
        "# Plot learning curves to assess the sufficiency of the number of data points\n",
        "train_sizes, train_scores, val_scores = learning_curve(\n",
        "    rfr, X_train, y_train, train_sizes=np.array([ 207, 517, 828, 1051]), cv=5)\n",
        "\n",
        "plt.plot(train_sizes, np.mean(train_scores, axis=1), label=\"Training Score\")\n",
        "plt.plot(train_sizes, np.mean(val_scores, axis=1), label=\"Validation Score\")\n",
        "plt.xlabel(\"Training Set Size\")\n",
        "plt.ylabel(\"R2 Score\")\n",
        "plt.legend()\n",
        "plt.title(\"Learning Curves\")\n",
        "plt.show()\n",
        "\n",
        "# Calculate feature importance\n",
        "importances = rfr.feature_importances_\n",
        "\n",
        "# Plot the feature importances in a bar plot\n",
        "features = X.columns\n",
        "plt.bar(features, importances)\n",
        "plt.xlabel(\"Features\")\n",
        "plt.ylabel(\"Feature Importance\")\n",
        "plt.title(\"Feature Importance Plot\")\n",
        "plt.xticks(rotation=90)\n",
        "plt.show()\n",
        "\n",
        "# Use the final model to predict on the test set and evaluate the accuracy\n",
        "y_pred = rfr.predict(X_test)\n",
        "r2_score = rfr.score(X_test, y_test)\n",
        "print(\"Test R2 Score:\", r2_score)\n"
      ],
      "metadata": {
        "colab": {
          "base_uri": "https://localhost:8080/",
          "height": 618
        },
        "id": "ayJME0e1X9X7",
        "outputId": "7b6509b6-5933-4b0f-c9fc-f655e87ec421"
      },
      "execution_count": null,
      "outputs": [
        {
          "output_type": "display_data",
          "data": {
            "text/plain": [
              "<Figure size 432x288 with 1 Axes>"
            ],
            "image/png": "[encoded data removed]"
          },
          "metadata": {
            "needs_background": "light"
          }
        },
        {
          "output_type": "display_data",
          "data": {
            "text/plain": [
              "<Figure size 432x288 with 1 Axes>"
            ],
            "image/png": "[encoded data removed]"
          },
          "metadata": {
            "needs_background": "light"
          }
        },
        {
          "output_type": "stream",
          "name": "stdout",
          "text": [
            "Test R2 Score: 1.0\n"
          ]
        }
      ]
    },
    {
      "cell_type": "markdown",
      "source": [
        "## training SVR model using learning curves and cross-validation"
      ],
      "metadata": {
        "id": "ahqkzLF_ZwjF"
      }
    },
    {
      "cell_type": "code",
      "source": [
        "import numpy as np\n",
        "import pandas as pd\n",
        "from sklearn.svm import SVR\n",
        "from sklearn.model_selection import train_test_split, GridSearchCV, learning_curve\n",
        "import matplotlib.pyplot as plt\n",
        "from sklearn.preprocessing import StandardScaler\n",
        "\n",
        "# Load the data into a pandas dataframe\n",
        "#df = pd.read_csv(\"Data Sheet 1.CSV\")\n",
        "\n",
        "# Randomize the data and set a constant random state for reproducibility\n",
        "np.random.seed(666)\n",
        "df = dataset.sample(frac=1).reset_index(drop=True)\n",
        "\n",
        "# Split the data into training and testing sets\n",
        "X = df.drop(\"Grain\", axis=1)\n",
        "y = df[\"Grain\"]\n",
        "X_train, X_test, y_train, y_test = train_test_split(X, y, test_size=0.25)\n",
        "\n",
        "# Scale the data using StandardScaler\n",
        "scaler = StandardScaler()\n",
        "X_train = scaler.fit_transform(X_train)\n",
        "X_test = scaler.transform(X_test)\n",
        "\n",
        "# Split the training set into training and validation sets\n",
        "X_train, X_val, y_train, y_val = train_test_split(X_train, y_train, test_size=0.25)\n",
        "\n",
        "# Define the parameters for GridSearchCV\n",
        "param_grid = [\n",
        "  {'C': [1, 10, 100, 1000], 'kernel': ['linear']},\n",
        "  {'C': [1, 10, 100, 1000], 'kernel': ['rbf'], 'gamma': [0.1, 0.2, 0.3, 0.4, 0.5, 0.6, 0.7, 0.8, 0.9]}\n",
        "]\n",
        "\n",
        "# Train the SVR using GridSearchCV\n",
        "svr = GridSearchCV(SVR(), param_grid, cv=5)\n",
        "\n",
        "svr.fit(X_train, y_train)\n",
        "\n",
        "\n",
        "# Plot learning curves to assess the sufficiency of the number of data points\n",
        "train_sizes, train_scores, val_scores = learning_curve(\n",
        "    svr, X_train, y_train, train_sizes=np.array([207, 517, 828, 1051]), cv=5)\n",
        "\n",
        "plt.plot(train_sizes, np.mean(train_scores, axis=1), label=\"Training Score\")\n",
        "plt.plot(train_sizes, np.mean(val_scores, axis=1), label=\"Validation Score\")\n",
        "plt.xlabel(\"Training Set Size\")\n",
        "plt.ylabel(\"R2 Score\")\n",
        "plt.legend()\n",
        "plt.title(\"Learning Curves\")\n",
        "plt.show()\n",
        "\n",
        "# Use the final model to predict on the test set and evaluate the accuracy\n",
        "y_pred = svr.predict(X_test)\n",
        "r2_score = svr.score(X_test, y_test)\n",
        "print(\"Test R2 Score:\", r2_score)\n"
      ],
      "metadata": {
        "colab": {
          "base_uri": "https://localhost:8080/",
          "height": 312
        },
        "id": "rzGU1B4h2G8L",
        "outputId": "07733cdc-82ee-4382-bc63-633c923a314e"
      },
      "execution_count": null,
      "outputs": [
        {
          "output_type": "display_data",
          "data": {
            "text/plain": [
              "<Figure size 432x288 with 1 Axes>"
            ],
            "image/png": "[encoded data removed]"
          },
          "metadata": {
            "needs_background": "light"
          }
        },
        {
          "output_type": "stream",
          "name": "stdout",
          "text": [
            "Test R2 Score: 0.9999993164685326\n"
          ]
        }
      ]
    },
    {
      "cell_type": "markdown",
      "source": [
        "## Test with new values"
      ],
      "metadata": {
        "id": "2Pcch1SW0GsR"
      }
    },
    {
      "cell_type": "code",
      "source": [
        "# test new values that normally designate grain #10\n",
        "X_new=[[105.81,\t94.4,\t192.56,\t3.831,\t4.0079454,\t-2.3909964,\t63.2733]]\n",
        "y_new = rfr.predict(X_new)\n",
        "print(\"grain : \",y_new)\n"
      ],
      "metadata": {
        "id": "Ti1jR46jcvWL",
        "colab": {
          "base_uri": "https://localhost:8080/"
        },
        "outputId": "af867bf6-71f1-4883-b3fe-6ec0fe7fd757"
      },
      "execution_count": null,
      "outputs": [
        {
          "output_type": "stream",
          "name": "stdout",
          "text": [
            "grain :  [10.]\n"
          ]
        },
        {
          "output_type": "stream",
          "name": "stderr",
          "text": [
            "/usr/local/lib/python3.8/dist-packages/sklearn/base.py:450: UserWarning: X does not have valid feature names, but RandomForestRegressor was fitted with feature names\n",
            "  warnings.warn(\n"
          ]
        }
      ]
    }
  ]
}